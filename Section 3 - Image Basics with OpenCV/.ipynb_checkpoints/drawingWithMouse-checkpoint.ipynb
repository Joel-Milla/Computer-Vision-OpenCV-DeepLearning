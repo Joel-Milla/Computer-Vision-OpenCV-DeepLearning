{
 "cells": [
  {
   "cell_type": "markdown",
   "id": "26abd9a6-9403-4760-9e69-53ef6f2ded8e",
   "metadata": {},
   "source": [
    "# Clicking and drawing instant circles"
   ]
  },
  {
   "cell_type": "code",
   "execution_count": 1,
   "id": "efe7e198-7212-4d5a-a787-ac58ed1d80a4",
   "metadata": {},
   "outputs": [],
   "source": [
    "import cv2\n",
    "import numpy as np\n",
    "\n",
    "##########\n",
    "#FUNCTION#\n",
    "##########\n",
    "# callbnack function that receivesd the mouse event, x-y happened, flags, params\n",
    "def draw_circle(event, x, y, flags, param):\n",
    "\n",
    "    if event == cv2.EVENT_LBUTTONDOWN:\n",
    "        cv2.circle(img, (x, y), 100, (0,255,0), -1) # position of circle, radius, color, and thickness -here is filled)\n",
    "        #                            blue,green,red\n",
    "    elif event == cv2.EVENT_RBUTTONDOWN:\n",
    "        cv2.circle(img, (x, y), 100, (255,0,0), -1) # position of circle, radius, color, and thickness -here is filled)\n",
    "        #                            blue,green,red\n",
    "\n",
    "cv2.namedWindow(winname='Drawing')\n",
    "cv2.setMouseCallback('Drawing', draw_circle)\n",
    "\n",
    "##########\n",
    "# SHOWING WITH OPENCV\n",
    "##########\n",
    "\n",
    "img = np.zeros((512, 512,3))\n",
    "\n",
    "while True:\n",
    "    cv2.imshow('Drawing', img)\n",
    "\n",
    "    if cv2.waitKey(20) & 0xFF == 27: # If someone has hit the escape button\n",
    "        break\n",
    "\n",
    "cv2.destroyAllWindows()"
   ]
  },
  {
   "cell_type": "markdown",
   "id": "9ab008a9-10d8-434d-b43a-ed07cc7a1c5c",
   "metadata": {},
   "source": [
    "# Draging the mouse and drawing a rectangle"
   ]
  },
  {
   "cell_type": "code",
   "execution_count": 7,
   "id": "f02d3e10-26fa-4769-a874-2c6b8723c469",
   "metadata": {},
   "outputs": [],
   "source": [
    "import cv2\n",
    "import numpy as np\n",
    "\n",
    "# VARIABLES\n",
    "drawing = False # true while mouse button down. false when mouse button up\n",
    "ix, iy = -1, -1 # keep track of those\n",
    "\n",
    "# FUNCTION\n",
    "def rectangle_draw(event, x, y, flags, param):\n",
    "    global ix, iy, drawing\n",
    "    if event == cv2.EVENT_LBUTTONDOWN:\n",
    "        drawing = True\n",
    "        ix, iy = x, y\n",
    "    elif event == cv2.EVENT_MOUSEMOVE:\n",
    "        if drawing:\n",
    "            cv2.rectangle(img, (ix, iy), (x, y), (0, 0, 255), -1)\n",
    "    elif event == cv2.EVENT_LBUTTONUP:\n",
    "        drawing = False\n",
    "        # cv2.rectangle(img, (ix, iy), (x, y), (0, 0, 255), -1)\n",
    "    \n",
    "\n",
    "# SHOWING THE IMAGE\n",
    "img = np.zeros((512, 512, 3))\n",
    "\n",
    "cv2.namedWindow(winname='drawing')\n",
    "cv2.setMouseCallback('drawing', rectangle_draw)\n",
    "\n",
    "\n",
    "while True:\n",
    "    cv2.imshow('drawing', img)\n",
    "    if cv2.waitKey(1) & 0xFF == 27:\n",
    "        break\n",
    "\n",
    "cv2.destroyAllWindows()"
   ]
  },
  {
   "cell_type": "code",
   "execution_count": null,
   "id": "107ed752-fdf1-4059-b695-25808a05d31d",
   "metadata": {},
   "outputs": [],
   "source": []
  }
 ],
 "metadata": {
  "kernelspec": {
   "display_name": "Python 3 (ipykernel)",
   "language": "python",
   "name": "python3"
  },
  "language_info": {
   "codemirror_mode": {
    "name": "ipython",
    "version": 3
   },
   "file_extension": ".py",
   "mimetype": "text/x-python",
   "name": "python",
   "nbconvert_exporter": "python",
   "pygments_lexer": "ipython3",
   "version": "3.12.8"
  }
 },
 "nbformat": 4,
 "nbformat_minor": 5
}
