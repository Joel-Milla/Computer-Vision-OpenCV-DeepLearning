{
 "cells": [
  {
   "cell_type": "code",
   "execution_count": 2,
   "id": "d282cd42-af7f-4fe7-9f18-6d01e0781215",
   "metadata": {},
   "outputs": [
    {
     "data": {
      "text/plain": [
       "97"
      ]
     },
     "execution_count": 2,
     "metadata": {},
     "output_type": "execute_result"
    }
   ],
   "source": [
    "import cv2\n",
    "\n",
    "img = cv2.imread('../Computer-Vision-with-Python/Computer-Vision-with-Python/DATA/00-puppy.jpg')\n",
    "cv2.imshow('puppy', img)\n",
    "# cv2.imshow('Puppy', img)\n",
    "cv2.waitKey() #siganl to click exit and close window"
   ]
  },
  {
   "cell_type": "code",
   "execution_count": 1,
   "id": "cd289da0-7973-48a6-9b11-c5143395d935",
   "metadata": {},
   "outputs": [
    {
     "data": {
      "text/plain": [
       "1"
      ]
     },
     "execution_count": 1,
     "metadata": {},
     "output_type": "execute_result"
    }
   ],
   "source": [
    "1"
   ]
  },
  {
   "cell_type": "code",
   "execution_count": null,
   "id": "f42f3789-9828-4238-a611-8dec9cf346c6",
   "metadata": {},
   "outputs": [],
   "source": []
  }
 ],
 "metadata": {
  "kernelspec": {
   "display_name": "Python 3 (ipykernel)",
   "language": "python",
   "name": "python3"
  },
  "language_info": {
   "codemirror_mode": {
    "name": "ipython",
    "version": 3
   },
   "file_extension": ".py",
   "mimetype": "text/x-python",
   "name": "python",
   "nbconvert_exporter": "python",
   "pygments_lexer": "ipython3",
   "version": "3.12.8"
  }
 },
 "nbformat": 4,
 "nbformat_minor": 5
}
