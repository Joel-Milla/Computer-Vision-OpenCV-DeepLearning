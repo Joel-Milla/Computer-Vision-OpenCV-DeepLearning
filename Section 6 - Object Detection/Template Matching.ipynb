{
 "cells": [
  {
   "cell_type": "markdown",
   "id": "b038f6ee-dcac-497d-baa1-26a330ab4c9b",
   "metadata": {},
   "source": [
    "# Template Matching\n",
    "\n",
    "- Looks for an exact copy of the image inside another image. This technique is used for advance techniques like corner detection, edge detection, grid detection. \n",
    "- Simplest form of object detection. It scans a large image using a template image in order to target/find the template image inside the large image"
   ]
  },
  {
   "cell_type": "code",
   "execution_count": null,
   "id": "8f0ddc95-6010-41e8-9502-31392098f1bc",
   "metadata": {},
   "outputs": [],
   "source": []
  }
 ],
 "metadata": {
  "kernelspec": {
   "display_name": "Python 3 (ipykernel)",
   "language": "python",
   "name": "python3"
  },
  "language_info": {
   "codemirror_mode": {
    "name": "ipython",
    "version": 3
   },
   "file_extension": ".py",
   "mimetype": "text/x-python",
   "name": "python",
   "nbconvert_exporter": "python",
   "pygments_lexer": "ipython3",
   "version": "3.12.8"
  }
 },
 "nbformat": 4,
 "nbformat_minor": 5
}
