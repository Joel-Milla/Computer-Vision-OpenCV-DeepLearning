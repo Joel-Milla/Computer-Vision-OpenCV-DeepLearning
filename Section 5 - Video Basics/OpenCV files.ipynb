{
 "cells": [
  {
   "cell_type": "code",
   "execution_count": 5,
   "id": "c9c08acf-53f3-44c7-9aa2-c0861f0fc345",
   "metadata": {},
   "outputs": [],
   "source": [
    "import cv2\n",
    "import time"
   ]
  },
  {
   "cell_type": "code",
   "execution_count": 6,
   "id": "a715f936-5391-45ef-9070-73cf9e3541c0",
   "metadata": {},
   "outputs": [
    {
     "name": "stdout",
     "output_type": "stream",
     "text": [
      "177.0\n",
      "Press 'q' for exiting the program\n"
     ]
    }
   ],
   "source": [
    "cap = cv2.VideoCapture('mysupervideo.mp4') # series of image. this is meant to read all the frames rapidly, not for human to see\n",
    "\n",
    "if cap.isOpened() == False:\n",
    "    print('Error: File not found or Wrong')\n",
    "else:\n",
    "    frame_count = cap.get(cv2.CAP_PROP_FRAME_COUNT)\n",
    "    print(frame_count)\n",
    "\n",
    "print(\"Press 'q' for exiting the program\")\n",
    "while cap.isOpened(): # while capture is opened and is reading\n",
    "    ret, frame = cap.read()\n",
    "\n",
    "    if ret == True: # while still returning frames, then show frames and be able to break out\n",
    "    # gray = cv2.cvtColor(frame)\n",
    "        # time.sleep(1/30) # tell how many fps where recorderd, and delay so each frame is shown as they were recorded. useful only when you want to watch video\n",
    "        cv2.imshow('frame', frame)\n",
    "    \n",
    "        if cv2.waitKey(10) & 0xFF == ord('q'):\n",
    "            break\n",
    "    else: # but if show all frames, then break out of loop\n",
    "        break\n",
    "    \n",
    "cap.release()\n",
    "cv2.destroyAllWindows()"
   ]
  },
  {
   "cell_type": "code",
   "execution_count": null,
   "id": "7f3bad20-b8cf-441f-b31c-97036bf5febe",
   "metadata": {},
   "outputs": [],
   "source": []
  }
 ],
 "metadata": {
  "kernelspec": {
   "display_name": "Python 3 (ipykernel)",
   "language": "python",
   "name": "python3"
  },
  "language_info": {
   "codemirror_mode": {
    "name": "ipython",
    "version": 3
   },
   "file_extension": ".py",
   "mimetype": "text/x-python",
   "name": "python",
   "nbconvert_exporter": "python",
   "pygments_lexer": "ipython3",
   "version": "3.12.8"
  }
 },
 "nbformat": 4,
 "nbformat_minor": 5
}
