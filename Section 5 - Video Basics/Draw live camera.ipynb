{
 "cells": [
  {
   "cell_type": "code",
   "execution_count": 2,
   "id": "e9ba9e8c-fb13-424a-bf5b-742c14155a91",
   "metadata": {},
   "outputs": [],
   "source": [
    "import cv2"
   ]
  },
  {
   "cell_type": "code",
   "execution_count": 4,
   "id": "8c9e25e0-71e2-4eac-9523-e2beefe41d32",
   "metadata": {},
   "outputs": [],
   "source": [
    "## global variables\n",
    "pt1 = (0,0)\n",
    "pt2 = (0,0)\n",
    "\n",
    "topLeft_click = False\n",
    "botRight_click = False\n",
    "\n",
    "## calback function that runs rectangle\n",
    "def draw_rectangle(event, x, y, flags, param):\n",
    "    global pt1, pt2, topLeft_click, botRight_click\n",
    "    if event == cv2.EVENT_LBUTTONUP:\n",
    "        if topLeft_click and botRight_click:\n",
    "            topLeft_click = False\n",
    "            botRight_click = False\n",
    "        else:\n",
    "            topLeft_click = True\n",
    "            pt1 = (x, y)\n",
    "    elif event == cv2.EVENT_RBUTTONUP:\n",
    "        if topLeft_click and botRight_click:\n",
    "            topLeft_click = False\n",
    "            botRight_click = False\n",
    "        else:\n",
    "            botRight_click = True\n",
    "            pt2 = (x, y)\n",
    "    \n",
    "\n",
    "## connect to callback\n",
    "cap = cv2.VideoCapture(1)\n",
    "\n",
    "cv2.namedWindow('Test')\n",
    "cv2.setMouseCallback('Test', draw_rectangle)\n",
    "\n",
    "while True:\n",
    "\n",
    "    ret, frame = cap.read()\n",
    "    \n",
    "    pt1_xor_pt2 = topLeft_click != botRight_click\n",
    "    both_true = topLeft_click and botRight_click\n",
    "    ## draw on the frame based on global variables\n",
    "    if both_true:\n",
    "        cv2.rectangle(frame, pt1, pt2, (0,0,255), 5)\n",
    "    elif topLeft_click:\n",
    "        cv2.circle(frame, pt1, 5, (0,0,255), -1)\n",
    "\n",
    "    cv2.imshow('Test', frame)\n",
    "    if cv2.waitKey(1) & 0xFF == ord('q'):\n",
    "        break\n",
    "\n",
    "cap.release()\n",
    "cv2.destroyAllWindows()"
   ]
  },
  {
   "cell_type": "code",
   "execution_count": null,
   "id": "5b5205ca-4665-447c-bfdf-58fd821e09f1",
   "metadata": {},
   "outputs": [],
   "source": []
  }
 ],
 "metadata": {
  "kernelspec": {
   "display_name": "Python 3 (ipykernel)",
   "language": "python",
   "name": "python3"
  },
  "language_info": {
   "codemirror_mode": {
    "name": "ipython",
    "version": 3
   },
   "file_extension": ".py",
   "mimetype": "text/x-python",
   "name": "python",
   "nbconvert_exporter": "python",
   "pygments_lexer": "ipython3",
   "version": "3.12.8"
  }
 },
 "nbformat": 4,
 "nbformat_minor": 5
}
