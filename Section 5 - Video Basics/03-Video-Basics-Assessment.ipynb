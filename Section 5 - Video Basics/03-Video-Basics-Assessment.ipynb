{
 "cells": [
  {
   "cell_type": "markdown",
   "metadata": {},
   "source": [
    "<a href=\"https://www.pieriandata.com\"><img src=\"../DATA/Logo.jpg\"></a>\n",
    "\n",
    "<em text-align:center>Copyright Pierian Data Inc.</em>"
   ]
  },
  {
   "cell_type": "markdown",
   "metadata": {},
   "source": [
    "# Video Basics Assessment \n",
    "\n",
    "* **Note: This assessment is quite hard! Feel free to treat it as a code along and jump to the solutions** *\n",
    "\n",
    "## Project Task\n",
    "\n",
    "**You only have one task here. Create a program that reads in a live stream from a camera on your computer (or if you don't have a camera, just open up a video file). Then whenever you click the left mouse button down, create a blue circle around where you've clicked. Check out the video for an example of what the final project should look like**"
   ]
  },
  {
   "cell_type": "markdown",
   "metadata": {},
   "source": [
    "**Guide**\n",
    "\n",
    "* Create a draw_circle function for the callback function\n",
    "* Use two events cv2.EVENT_LBUTTONDOWN and cv2.EVENT_LBUTTONUP\n",
    "* Use a boolean variable to keep track if the mouse has been clicked up and down based on the events above\n",
    "* Use a tuple to keep track of the x and y where the mouse was clicked.\n",
    "* You should be able to then draw a circle on the frame based on the x,y coordinates from the Event \n",
    "\n",
    "Check out the skeleton guide below:"
   ]
  },
  {
   "cell_type": "code",
   "execution_count": 1,
   "metadata": {},
   "outputs": [],
   "source": [
    "import cv2"
   ]
  },
  {
   "cell_type": "code",
   "execution_count": 5,
   "metadata": {},
   "outputs": [],
   "source": [
    "center = (0,0)\n",
    "clicked = False\n",
    "\n",
    "# mouse callback function\n",
    "def draw_circle(event,x,y,flags,param):\n",
    "    global center, clicked\n",
    "    if event == cv2.EVENT_LBUTTONDOWN:\n",
    "            clicked = False\n",
    "            center = (0,0)\n",
    "        \n",
    "    if event == cv2.EVENT_LBUTTONUP:\n",
    "            clicked = True\n",
    "            center = (x, y)\n",
    "   \n",
    "\n",
    "## connect to the camera\n",
    "cap = cv2.VideoCapture(1)\n",
    "\n",
    "# create the frame that will be shown and that has the listener of mouse callback\n",
    "cv2.namedWindow('Circle')\n",
    "cv2.setMouseCallback('Circle', draw_circle)\n",
    "\n",
    "while True:\n",
    "\n",
    "    ret, frame = cap.read() # read from captured video the frame\n",
    "\n",
    "    # if the user has clicked, then draw a circle in the image\n",
    "    if clicked:\n",
    "        cv2.circle(frame, center, 75, (0,0,255), 3)\n",
    "\n",
    "    cv2.imshow('Circle', frame) # show the image\n",
    "    if cv2.waitKey(1) & 0xFf == ord('q'): # if waited for one milisecond and clicked q, then exit\n",
    "        break\n",
    "    \n",
    "cap.release() # release the frame that you are capturing\n",
    "cv2.destroyAllWindows() # destroy all windows open"
   ]
  },
  {
   "cell_type": "code",
   "execution_count": null,
   "metadata": {},
   "outputs": [],
   "source": []
  }
 ],
 "metadata": {
  "kernelspec": {
   "display_name": "Python 3 (ipykernel)",
   "language": "python",
   "name": "python3"
  },
  "language_info": {
   "codemirror_mode": {
    "name": "ipython",
    "version": 3
   },
   "file_extension": ".py",
   "mimetype": "text/x-python",
   "name": "python",
   "nbconvert_exporter": "python",
   "pygments_lexer": "ipython3",
   "version": "3.12.8"
  }
 },
 "nbformat": 4,
 "nbformat_minor": 4
}
