{
 "cells": [
  {
   "cell_type": "code",
   "execution_count": 2,
   "id": "10e1e4ad-baf7-49fa-80e7-e0f493e5596a",
   "metadata": {},
   "outputs": [],
   "source": [
    "import cv2"
   ]
  },
  {
   "cell_type": "code",
   "execution_count": 5,
   "id": "ee9a8147-9f42-4fc5-bc65-1407e41ccf50",
   "metadata": {},
   "outputs": [
    {
     "name": "stdout",
     "output_type": "stream",
     "text": [
      "-1.0\n",
      "Press 'q' for exiting the program\n"
     ]
    }
   ],
   "source": [
    "cap = cv2.VideoCapture(0) # series of image\n",
    "\n",
    "width = cap.get(cv2.CAP_PROP_FRAME_WIDTH) # floating point number\n",
    "height = cap.get(cv2.CAP_PROP_FRAME_HEIGHT)\n",
    "frame_count = cap.get(cv2.CAP_PROP_FRAME_COUNT)\n",
    "\n",
    "# print(frame_count)\n",
    "\n",
    "width = int(width)\n",
    "height = int(height)\n",
    "\n",
    "\n",
    "# windows -- DIVX\n",
    "# macos -- XVID\n",
    "\n",
    "# put filepath of video, the pass video coder that actually writes in mp4 - it is platform dependent. DIVX changes depending on platform\n",
    "    # then third parameter is how many frames captured by camera (more frames captured, larger is the file)\n",
    "    # fourth parameter is width and height\n",
    "writer = cv2.VideoWriter('mysupervideo.mp4', cv2.VideoWriter_fourcc(*'DIVX'), 30, (width, height))\n",
    "\n",
    "print(\"Press 'q' for exiting the program\")\n",
    "while True:\n",
    "\n",
    "    ret, frame = cap.read()\n",
    "    writer.write(frame)\n",
    "    \n",
    "    # gray = cv2.cvtColor(frame)\n",
    "    cv2.imshow('frame', frame)\n",
    "\n",
    "    if cv2.waitKey(1) & 0xFF == ord('q'):\n",
    "        break\n",
    "\n",
    "cap.release()\n",
    "writer.release()\n",
    "cv2.destroyAllWindows()"
   ]
  },
  {
   "cell_type": "code",
   "execution_count": null,
   "id": "79e3bd8a-3257-4c64-b0f7-2bfdb55bdc36",
   "metadata": {},
   "outputs": [],
   "source": []
  }
 ],
 "metadata": {
  "kernelspec": {
   "display_name": "Python 3 (ipykernel)",
   "language": "python",
   "name": "python3"
  },
  "language_info": {
   "codemirror_mode": {
    "name": "ipython",
    "version": 3
   },
   "file_extension": ".py",
   "mimetype": "text/x-python",
   "name": "python",
   "nbconvert_exporter": "python",
   "pygments_lexer": "ipython3",
   "version": "3.12.8"
  }
 },
 "nbformat": 4,
 "nbformat_minor": 5
}
